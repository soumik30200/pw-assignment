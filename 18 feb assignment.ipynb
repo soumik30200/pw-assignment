{
 "cells": [
  {
   "cell_type": "markdown",
   "id": "f0ab8d24-87a2-42fa-92c0-e4fa0392ee2d",
   "metadata": {},
   "source": [
    "### Q1. What is an API? Give an example, where an API is used in real life."
   ]
  },
  {
   "cell_type": "markdown",
   "id": "9001caf3-4956-4f98-ad41-6bd9720e8f1c",
   "metadata": {},
   "source": [
    "\n",
    "APIs are mechanisms that enable two software components to communicate with each other using a set of definitions and protocols. For example, the weather bureau's software system contains daily weather data. The weather app on your phone “talks” to this system via APIs and shows you daily weather updates on your phone."
   ]
  },
  {
   "cell_type": "markdown",
   "id": "e91e175b-1cca-44f5-b3e4-284615f6a38e",
   "metadata": {},
   "source": [
    "### Q2. Give advantages and disadvantages of using API."
   ]
  },
  {
   "cell_type": "markdown",
   "id": "252d43b0-54af-4826-b2b0-82bd2e722946",
   "metadata": {},
   "source": [
    "##### advantages: integration, new functionality\n",
    "##### disadvantages: cost, security exposure\n"
   ]
  },
  {
   "cell_type": "markdown",
   "id": "d0b32cc3-da8d-47e1-b1d3-4f25313a2749",
   "metadata": {},
   "source": [
    "### Q3. What is a Web API? Differentiate between API and Web API."
   ]
  },
  {
   "cell_type": "markdown",
   "id": "0ccad43a-3a4b-405e-902c-b849f638b3cf",
   "metadata": {},
   "source": [
    "A Web API is an application programming interface for the Web. \n",
    "\n",
    "difference : Web service is a collection of open source protocols and standards used for exchanging data between systems or applications, whereas API is a software interface that allows two applications to interact with each other without any user involvement.\n",
    "\n",
    "\n",
    "Web service is used for REST, SOAP, and XML-RPC for communication, while API is used for any style of communication.-Web service supports only HTTP protocol, whereas API supports HTTP/HTTPS protocol.\n",
    "\n",
    "\n",
    "Web service supports XML, while API supports XML and JSON.\n",
    "\n",
    "\n",
    "All Web services are APIs, but all APIs are not web services.\n"
   ]
  },
  {
   "cell_type": "markdown",
   "id": "914d5bd8-0f47-4e11-b256-b841a80435bb",
   "metadata": {},
   "source": [
    "### Q4.Explain REST and SOAP Architecture. Mention shortcomings of SOAP."
   ]
  },
  {
   "cell_type": "markdown",
   "id": "9e22f00b-cd78-42b3-8929-89c9625827b4",
   "metadata": {},
   "source": [
    "#### REST"
   ]
  },
  {
   "cell_type": "markdown",
   "id": "2e6b6df1-0fc8-4b0c-b5c6-3451230f9679",
   "metadata": {},
   "source": [
    "REST, or REpresentational State Transfer, is an architectural style for providing standards between computer systems on the web, making it easier for systems to communicate with each other. REST-compliant systems, often called RESTful systems, are characterized by how they are stateless and separate the concerns of client and server."
   ]
  },
  {
   "cell_type": "markdown",
   "id": "38fd6c03-a1d1-4601-bda7-f36f1d43f773",
   "metadata": {},
   "source": [
    "DATABASE -> WEB SERVER -> REST API -> WEB APPLICATIONS\n"
   ]
  },
  {
   "cell_type": "markdown",
   "id": "ae08aeab-1ab4-41c8-844a-035fe6197001",
   "metadata": {},
   "source": [
    "#### SOAP"
   ]
  },
  {
   "cell_type": "markdown",
   "id": "393c8662-5a11-4534-8eab-5804a2c33f0b",
   "metadata": {},
   "source": [
    "SOAP is an acronym for Simple Object Access Protocol. It is an XML-based messaging protocol for exchanging information among computers. SOAP is an application of the XML specification. SOAP is a communication protocol designed to communicate via Internet. It can extend HTTP for XML messaging.It provides data transport for Web services.\n",
    "\n"
   ]
  },
  {
   "cell_type": "markdown",
   "id": "a438de6a-c01a-476f-8e73-725930a8519b",
   "metadata": {},
   "source": [
    "SOAP SENDER -> (HTTP) SOAP request message -> SOAP RECIEVER\n",
    "\n",
    "SOAP RECIEVER -> (HTTP )SOAP response message -> SOAP SENDER"
   ]
  },
  {
   "cell_type": "markdown",
   "id": "c1ee274e-e726-4a19-bedb-7a030fc2473e",
   "metadata": {},
   "source": [
    "Shortcomings of SOAP : highly complex, no variety of data formats, api calls aren't cached, needs larger bandwidth"
   ]
  },
  {
   "cell_type": "markdown",
   "id": "41970469-15e1-4531-8bf7-5f045035656a",
   "metadata": {},
   "source": [
    "### Q5. Differentiate between REST and SOAP."
   ]
  },
  {
   "cell_type": "markdown",
   "id": "d94d29d5-96ad-4ade-83e7-57847c012b77",
   "metadata": {},
   "source": [
    "#### REST"
   ]
  },
  {
   "cell_type": "markdown",
   "id": "77e94d45-c713-4a51-b2a0-71b3a437c6b3",
   "metadata": {},
   "source": [
    "Representational state transfer or Rest was developed to work with components like media, files or objects on a hardware device. Roy Fielding introduced and defined this term in his doctoral dissertation back in 2000. The idea was to detail how a well-designed web application would behave. Web services that are defined on the principles of Rest and therefore called RestFul web services.\n",
    "\n",
    "A resource is the key abstraction of information in Rest. Any information that can be given a name can function as a resource. It can be a collection of other resources, a document, an image, etc.\n",
    "\n",
    "It uses a resource identifier to identify the particular resource that's required in an interaction between components. When HTTP is used in a transition, as it most commonly is, the GET, HEAD, POST, PUT, PATCH, DELETE, CONNECT, OPTIONS and TRACE operations are available. This typical use of HTTP means that developers don't need to install any extra software or libraries when they create a Rest API."
   ]
  },
  {
   "cell_type": "markdown",
   "id": "99e15adb-c668-4847-9c97-76be273a085e",
   "metadata": {},
   "source": [
    "#### SOAP"
   ]
  },
  {
   "cell_type": "markdown",
   "id": "594b1341-cf81-4a9a-b65c-662f42e8e8ab",
   "metadata": {},
   "source": [
    " SOAP or the Simple Object Access Protocol is a messaging protocol that allows for distributed elements of an application to communicate. This protocol can be carried over multiple transfer methods like HTTP and SMTP. Its data structure is based on XML and since it's largely human readable, it makes it easier to understand a SOAP message. SOAP is a concrete protocol with its own set of rules and security features like integrated ACID compliance and authorization. It's also highly complex since it requires more bandwidth and resources. It performs well in distributed enterprise environments since it doesn't assume direct point-to-point communication"
   ]
  },
  {
   "cell_type": "code",
   "execution_count": null,
   "id": "198e0e28-c2fa-425f-924d-2a2dd941ba01",
   "metadata": {},
   "outputs": [],
   "source": []
  }
 ],
 "metadata": {
  "kernelspec": {
   "display_name": "Python 3 (ipykernel)",
   "language": "python",
   "name": "python3"
  },
  "language_info": {
   "codemirror_mode": {
    "name": "ipython",
    "version": 3
   },
   "file_extension": ".py",
   "mimetype": "text/x-python",
   "name": "python",
   "nbconvert_exporter": "python",
   "pygments_lexer": "ipython3",
   "version": "3.10.8"
  }
 },
 "nbformat": 4,
 "nbformat_minor": 5
}
