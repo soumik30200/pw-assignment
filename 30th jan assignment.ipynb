{
 "cells": [
  {
   "cell_type": "markdown",
   "id": "dc1b036b-7389-4b02-ba95-aded2a66a9bb",
   "metadata": {},
   "source": [
    "# Q1 .Write a program to accept percentage from the user and display the grade according to the following criteria\n",
    "'''\n",
    "Marks          Grade\n",
    ">90            A\n",
    ">80 and <=90   B\n",
    ">=60 and <=80  C\n",
    "below 60       D \n",
    "'''"
   ]
  },
  {
   "cell_type": "code",
   "execution_count": 4,
   "id": "445d3254-6107-4687-94ee-fb8a44d8b587",
   "metadata": {},
   "outputs": [
    {
     "name": "stdin",
     "output_type": "stream",
     "text": [
      "Enter the marks 59\n"
     ]
    },
    {
     "name": "stdout",
     "output_type": "stream",
     "text": [
      "D\n"
     ]
    }
   ],
   "source": [
    "marks= int(input(\"Enter the marks\"))\n",
    "if marks > 90 :\n",
    "    print (\"A\")\n",
    "elif marks >80 and marks <=90 :\n",
    "    print(\"B\")\n",
    "elif marks >=60 and marks <=80 :\n",
    "    print(\"C\")\n",
    "else :\n",
    "    print (\"D\")\n",
    "           "
   ]
  },
  {
   "cell_type": "code",
   "execution_count": 5,
   "id": "1bd9635f-da60-432f-92ac-02d3b6fc306e",
   "metadata": {},
   "outputs": [
    {
     "data": {
      "text/plain": [
       "'\\nTax          Cost price\\n15%          >100000\\n10%          >50000 and <=100000\\n5%           <= 50000 \\n'"
      ]
     },
     "execution_count": 5,
     "metadata": {},
     "output_type": "execute_result"
    }
   ],
   "source": [
    "# Q2 .Write a program to accept cost price of bike and display road tax to be paid according to following criteria\n",
    "\"\"\"\n",
    "Tax          Cost price\n",
    "15%          >100000\n",
    "10%          >50000 and <=100000\n",
    "5%           <= 50000 \n",
    "\"\"\"\n"
   ]
  },
  {
   "cell_type": "code",
   "execution_count": 9,
   "id": "e8386e6e-0467-4471-8605-d479e2f2c0fd",
   "metadata": {},
   "outputs": [
    {
     "name": "stdin",
     "output_type": "stream",
     "text": [
      "Enter the price of bike 45000\n"
     ]
    },
    {
     "name": "stdout",
     "output_type": "stream",
     "text": [
      "road tax =  2250.0\n"
     ]
    }
   ],
   "source": [
    "cost_price = int(input(\"Enter the price of bike\"))\n",
    "if cost_price > 100000 :\n",
    "    print(\"road tax = \", 0.15 * cost_price)\n",
    "elif cost_price > 50000 and cost_price <= 1000000:\n",
    "    print(\"road tax = \", 0.10* cost_price)\n",
    "else  :\n",
    "    print (\"road tax = \", cost_price * 0.05)\n"
   ]
  },
  {
   "cell_type": "code",
   "execution_count": 10,
   "id": "33846c6e-171e-4884-b8b7-d732967db480",
   "metadata": {},
   "outputs": [
    {
     "data": {
      "text/plain": [
       "'\\nCity         Monument\\nDelhi        Red Fort\\nAgra         Taj Mahal\\nJaipur       Jal Mahal\\n'"
      ]
     },
     "execution_count": 10,
     "metadata": {},
     "output_type": "execute_result"
    }
   ],
   "source": [
    "# Q3 .Accept any city from the user and display monumnets of that city\n",
    "\"\"\"\n",
    "City         Monument\n",
    "Delhi        Red Fort\n",
    "Agra         Taj Mahal\n",
    "Jaipur       Jal Mahal\n",
    "\"\"\""
   ]
  },
  {
   "cell_type": "code",
   "execution_count": 15,
   "id": "9c9bc5b9-cb5b-4698-a1f4-6f6110064bec",
   "metadata": {},
   "outputs": [
    {
     "name": "stdin",
     "output_type": "stream",
     "text": [
      "Enter the city Agra\n"
     ]
    },
    {
     "name": "stdout",
     "output_type": "stream",
     "text": [
      "Taj Mahal\n"
     ]
    }
   ],
   "source": [
    "city=str(input(\"Enter the city\"))\n",
    "user=city.lower()\n",
    "if user == \"delhi\" :\n",
    "    print(\"Red Fort\")\n",
    "    \n",
    "elif user == \"agra\" :\n",
    "    print(\"Taj Mahal\")\n",
    "else :\n",
    "    print(\"Jal Mahal\")"
   ]
  },
  {
   "cell_type": "code",
   "execution_count": 16,
   "id": "fc578853-5f29-4a1e-a267-13aeb2e811f8",
   "metadata": {},
   "outputs": [],
   "source": [
    "#Q4.Check how many times a given number can be divided by 3 before it is less than or equal to 10\n"
   ]
  },
  {
   "cell_type": "code",
   "execution_count": 24,
   "id": "b13a8b9b-8cd1-458a-b9e5-5c641e377b97",
   "metadata": {},
   "outputs": [
    {
     "name": "stdin",
     "output_type": "stream",
     "text": [
      "enter number 3\n"
     ]
    },
    {
     "name": "stdout",
     "output_type": "stream",
     "text": [
      "3\n"
     ]
    }
   ],
   "source": [
    "count=0\n",
    "num=int(input(\"enter number\"))\n",
    "for i in range(num,11) :\n",
    "    if  i%3==0 :\n",
    "        count = count + 1\n",
    "print (count)\n",
    "       "
   ]
  },
  {
   "cell_type": "markdown",
   "id": "e03ee140-7e70-41a2-9f07-61671e60b137",
   "metadata": {},
   "source": [
    "# Q5.Why and when to use while loop in python with an example?\n",
    "\n",
    "The while loop in Python is used to repeatedly execute a block of code as long as a given condition is true.\n",
    "While loop when you want to repeat a set of actions until a specific condition is met. For example, you might use a while loop to repeatedly read input from the user until they enter a valid value\n"
   ]
  },
  {
   "cell_type": "code",
   "execution_count": null,
   "id": "bd0c74ee-1b97-4352-946c-b6f4cd339d6a",
   "metadata": {},
   "outputs": [],
   "source": [
    "while True:\n",
    "    user_input = input(\"Enter a number:\")\n",
    "    if user_input.isdigit():\n",
    "        break\n",
    "    print(\"Invalid input, try again.\")"
   ]
  },
  {
   "cell_type": "markdown",
   "id": "847a3b02-5bb6-4b70-af2a-d320258b77b4",
   "metadata": {},
   "source": [
    "In this example, the while loop continues to execute as long as the True condition is true. The break statement is used to exit the loop when a valid input is entered by the user.\n",
    "\n"
   ]
  },
  {
   "cell_type": "code",
   "execution_count": null,
   "id": "38253a96-bb78-4967-994d-382c7d1a0a08",
   "metadata": {},
   "outputs": [],
   "source": [
    "# Q6.3 different patterns using nested while look\n",
    "# right angled triangle\n"
   ]
  },
  {
   "cell_type": "code",
   "execution_count": 1,
   "id": "632dce29-d343-48d1-bdcf-f3e3b5d36660",
   "metadata": {},
   "outputs": [
    {
     "name": "stdin",
     "output_type": "stream",
     "text": [
      "Enter number of rows 10\n"
     ]
    },
    {
     "name": "stdout",
     "output_type": "stream",
     "text": [
      "\n",
      "* \n",
      "* * \n",
      "* * * \n",
      "* * * * \n",
      "* * * * * \n",
      "* * * * * * \n",
      "* * * * * * * \n",
      "* * * * * * * * \n",
      "* * * * * * * * * \n"
     ]
    }
   ],
   "source": [
    "# right angled triangle\n",
    "rows=int(input(\"Enter number of rows\"))\n",
    "i=0\n",
    "while i<rows:\n",
    "    j=0\n",
    "    while j<i:\n",
    "        print(\"*\",end=\" \")\n",
    "        j=j+1\n",
    "    print(\"\\r\")\n",
    "    i=i+1"
   ]
  },
  {
   "cell_type": "code",
   "execution_count": 2,
   "id": "cf4a02bb-c78f-44fd-995d-848a8eb15aac",
   "metadata": {},
   "outputs": [
    {
     "name": "stdin",
     "output_type": "stream",
     "text": [
      "enter number of rows 8\n"
     ]
    },
    {
     "name": "stdout",
     "output_type": "stream",
     "text": [
      "        \n",
      "       * \n",
      "      * * \n",
      "     * * * \n",
      "    * * * * \n",
      "   * * * * * \n",
      "  * * * * * * \n",
      " * * * * * * * \n"
     ]
    }
   ],
   "source": [
    "#pyramid triangle\n",
    "\n",
    "rows=int(input(\"enter number of rows\"))\n",
    "i=0\n",
    "while i<rows:\n",
    "    j=0\n",
    "    while j<rows-i:\n",
    "        print(end=\" \")\n",
    "        j=j+1\n",
    "    k=0\n",
    "    while k<i:\n",
    "        print(\"*\",end=\" \")\n",
    "        k=k+1\n",
    "    print(\"\\r\")\n",
    "    i=i+1"
   ]
  },
  {
   "cell_type": "code",
   "execution_count": 10,
   "id": "5034d5ee-7ff1-4943-b981-cb0a8466d0e1",
   "metadata": {},
   "outputs": [
    {
     "name": "stdin",
     "output_type": "stream",
     "text": [
      "enter number of rows 5\n"
     ]
    },
    {
     "name": "stdout",
     "output_type": "stream",
     "text": [
      "* * * * * \n",
      "* * * * \n",
      "* * * \n",
      "* * \n",
      "* \n"
     ]
    }
   ],
   "source": [
    "#inverted right angled triangle\n",
    "rows=int(input(\"enter number of rows\"))\n",
    "i=0\n",
    "while i<rows:\n",
    "    j=0\n",
    "    while j<rows-i:\n",
    "        print(\"*\",end=' ')\n",
    "        j=j+1\n",
    "    print(\"\\r\")\n",
    "    i=i+1"
   ]
  },
  {
   "cell_type": "code",
   "execution_count": null,
   "id": "a41ca4e3-f643-4491-8ca0-87be6184110b",
   "metadata": {},
   "outputs": [],
   "source": []
  }
 ],
 "metadata": {
  "kernelspec": {
   "display_name": "Python 3 (ipykernel)",
   "language": "python",
   "name": "python3"
  },
  "language_info": {
   "codemirror_mode": {
    "name": "ipython",
    "version": 3
   },
   "file_extension": ".py",
   "mimetype": "text/x-python",
   "name": "python",
   "nbconvert_exporter": "python",
   "pygments_lexer": "ipython3",
   "version": "3.10.8"
  }
 },
 "nbformat": 4,
 "nbformat_minor": 5
}
