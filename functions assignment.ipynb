{
 "cells": [
  {
   "cell_type": "markdown",
   "id": "b58b6ce3-0629-4ec6-ae3c-4c7f36ef770b",
   "metadata": {},
   "source": [
    "### Q1. Which keyword is used to create a function? Create a function to return a list of odd numbers in the range of 1 to 25."
   ]
  },
  {
   "cell_type": "code",
   "execution_count": 9,
   "id": "b84cbca7-8c19-4b97-9020-26dbae84d6d1",
   "metadata": {},
   "outputs": [],
   "source": [
    "#Def key word is used to create a function\n",
    "def odd ():\n",
    "    l=[]\n",
    "    for i in range (1,26):\n",
    "        if i% 2 != 0:\n",
    "            l.append(i)\n",
    "    return (l)\n",
    "        \n",
    "    \n"
   ]
  },
  {
   "cell_type": "code",
   "execution_count": 15,
   "id": "ce81ca94-c895-470c-808e-6c6ec99cd44c",
   "metadata": {},
   "outputs": [
    {
     "name": "stdout",
     "output_type": "stream",
     "text": [
      "[1, 3, 5, 7, 9, 11, 13, 15, 17, 19, 21, 23, 25]\n"
     ]
    }
   ],
   "source": [
    "odd ()"
   ]
  },
  {
   "cell_type": "markdown",
   "id": "dd08e4dc-4063-41cf-aae7-f830668e6a0c",
   "metadata": {},
   "source": [
    "### Q2. Why *args and **kwargs is used in some functions? Create a function each for *args and **kwargs to demonstrate their use."
   ]
  },
  {
   "cell_type": "code",
   "execution_count": 11,
   "id": "e2ca5c97-7cef-4920-aaae-b171ec4c54e7",
   "metadata": {},
   "outputs": [],
   "source": [
    "# *args is used to take any number of inputs\n",
    "# **kwargs is used to create or use a dictionay i.e key value pair\n",
    "\n",
    "def test4(*args):\n",
    "    l = []\n",
    "    for i in args:\n",
    "        if type(i) == list :\n",
    "            l.append(i)\n",
    "            \n",
    "    return l\n"
   ]
  },
  {
   "cell_type": "code",
   "execution_count": 16,
   "id": "dd6efdac-11f6-4c7b-a630-d6f931d7c08f",
   "metadata": {},
   "outputs": [
    {
     "data": {
      "text/plain": [
       "[[1, 2, 3, 4], [5, 6, 7, 8, 9]]"
      ]
     },
     "execution_count": 16,
     "metadata": {},
     "output_type": "execute_result"
    }
   ],
   "source": [
    "test4(1,2,3, (1,2,3,4),[1,2,3,4],[5,6,7,8,9] ,\"subh\")"
   ]
  },
  {
   "cell_type": "code",
   "execution_count": 17,
   "id": "073d2b04-9857-4a83-ac05-10a2ba6a8ea7",
   "metadata": {},
   "outputs": [],
   "source": [
    "def test5(**kwargs):\n",
    "    return kwargs\n",
    "    "
   ]
  },
  {
   "cell_type": "code",
   "execution_count": 21,
   "id": "a5cce59a-83a8-44fc-9932-9d866bab3c3e",
   "metadata": {},
   "outputs": [
    {
     "data": {
      "text/plain": [
       "{'name': 'soum', 'email': ['soum@gmail.com', 'soum@rediffmail.com']}"
      ]
     },
     "execution_count": 21,
     "metadata": {},
     "output_type": "execute_result"
    }
   ],
   "source": [
    "test5 (name =\"soum\", email = [\"soum@gmail.com\",\"soum@rediffmail.com\"])"
   ]
  },
  {
   "cell_type": "code",
   "execution_count": 22,
   "id": "fe057f2e-cc53-4889-9297-c6749b29d40e",
   "metadata": {},
   "outputs": [],
   "source": [
    "def test6(**kwargs):\n",
    "    for i in kwargs.keys():\n",
    "        if type(kwargs[i] ) == list :\n",
    "            return i , kwargs[i]\n"
   ]
  },
  {
   "cell_type": "code",
   "execution_count": 23,
   "id": "421f8f6e-5ee8-456a-86a8-9061a8fc1003",
   "metadata": {},
   "outputs": [
    {
     "data": {
      "text/plain": [
       "('c', [1, 2, 3, 4])"
      ]
     },
     "execution_count": 23,
     "metadata": {},
     "output_type": "execute_result"
    }
   ],
   "source": [
    "test6(a = 34 , b = 23 , c = [1,2,3,4] , d = (\"sudh\" , \"pwskills\"))"
   ]
  },
  {
   "cell_type": "markdown",
   "id": "1f1173e1-9a60-40a3-9a84-3791cccd0e5a",
   "metadata": {},
   "source": [
    "### Q3. What is an iterator in python? Name the method used to initialise the iterator object and the method\n",
    "### used for iteration. Use these methods to print the first five elements of the given list [2, 4, 6, 8, 10, 12, 14, 16, 18, 20]."
   ]
  },
  {
   "cell_type": "code",
   "execution_count": null,
   "id": "00e6d167-d17d-4b0c-916b-91c51de37992",
   "metadata": {},
   "outputs": [],
   "source": [
    "An iterator is an object that contains a countable number of values\n",
    "__iter__() method is used to initialise the iterator object and the method"
   ]
  },
  {
   "cell_type": "code",
   "execution_count": 24,
   "id": "f454a1fc-984f-4ac3-b2b7-caacfdfd67fa",
   "metadata": {},
   "outputs": [
    {
     "name": "stdout",
     "output_type": "stream",
     "text": [
      "2\n",
      "4\n",
      "6\n",
      "8\n",
      "10\n"
     ]
    }
   ],
   "source": [
    "lst=[2, 4, 6, 8, 10, 12, 14, 16, 18, 20]\n",
    "ch_iter=iter(lst)\n",
    "\n",
    "print(next(ch_iter))\n",
    "print(next(ch_iter))\n",
    "print(next(ch_iter))\n",
    "print(next(ch_iter))\n",
    "print(next(ch_iter))"
   ]
  },
  {
   "cell_type": "markdown",
   "id": "30e8af24-7ac4-4752-9246-f60afc1bda7f",
   "metadata": {},
   "source": [
    "### Q4. What is a generator function in python? Why yield keyword is used? Give an example of a generator function."
   ]
  },
  {
   "cell_type": "code",
   "execution_count": 25,
   "id": "07fed746-ff2b-4b85-97e5-0e7851b12255",
   "metadata": {},
   "outputs": [],
   "source": [
    "#Python provides a generator to create your own iterator function. A generator is a special type of function which does not return a single value, \n",
    "#instead, it returns an iterator object with a sequence of values. \n",
    "#-yield is used to create a generator function\n",
    "\n"
   ]
  },
  {
   "cell_type": "code",
   "execution_count": 56,
   "id": "84131b6a-be85-4711-8c8a-5e7eb3f65b9e",
   "metadata": {},
   "outputs": [],
   "source": [
    "def test1(n):\n",
    "    sum=0\n",
    "    for i in  range(0,n+1):\n",
    "        sum = sum + i\n",
    "    yield (sum)\n",
    "    \n",
    "    "
   ]
  },
  {
   "cell_type": "code",
   "execution_count": 57,
   "id": "16a672e1-b5d5-4d83-8c41-3aff55ed94af",
   "metadata": {},
   "outputs": [
    {
     "name": "stdout",
     "output_type": "stream",
     "text": [
      "6\n"
     ]
    }
   ],
   "source": [
    "a=test1(3)\n",
    "for i in a :\n",
    "    print(i)\n"
   ]
  },
  {
   "cell_type": "code",
   "execution_count": null,
   "id": "706ca360-735a-458d-aedc-f1b510906099",
   "metadata": {},
   "outputs": [],
   "source": [
    "\n",
    "\n",
    "def prime_numbers(limit):\n",
    "    primes = []\n",
    "    for num in range(2, limit):\n",
    "        for i in primes:\n",
    "            if num % i == 0:\n",
    "                break\n",
    "        else:\n",
    "            primes.append(num)\n",
    "            yield num\n",
    "\n"
   ]
  },
  {
   "cell_type": "code",
   "execution_count": 65,
   "id": "5758f57c-c548-4601-90ca-3e580468f14d",
   "metadata": {},
   "outputs": [
    {
     "name": "stdout",
     "output_type": "stream",
     "text": [
      "2\n",
      "3\n",
      "5\n",
      "7\n",
      "11\n",
      "13\n",
      "17\n",
      "19\n",
      "23\n",
      "29\n",
      "31\n",
      "37\n",
      "41\n",
      "43\n",
      "47\n",
      "53\n",
      "59\n",
      "61\n",
      "67\n",
      "71\n"
     ]
    }
   ],
   "source": [
    "gen = prime_numbers(1000)\n",
    "\n",
    "for i in range(20):\n",
    "    print(next(gen))"
   ]
  },
  {
   "cell_type": "markdown",
   "id": "ce37abfe-3ebc-4881-868e-858432ad4058",
   "metadata": {},
   "source": [
    "### Q5. Create a generator function for prime numbers less than 1000. Use the next() method to print the first 20 prime numbers."
   ]
  },
  {
   "cell_type": "code",
   "execution_count": null,
   "id": "ca710a1c-dcdb-4b23-bde9-3281c2c6a43d",
   "metadata": {},
   "outputs": [],
   "source": []
  }
 ],
 "metadata": {
  "kernelspec": {
   "display_name": "Python 3 (ipykernel)",
   "language": "python",
   "name": "python3"
  },
  "language_info": {
   "codemirror_mode": {
    "name": "ipython",
    "version": 3
   },
   "file_extension": ".py",
   "mimetype": "text/x-python",
   "name": "python",
   "nbconvert_exporter": "python",
   "pygments_lexer": "ipython3",
   "version": "3.10.8"
  }
 },
 "nbformat": 4,
 "nbformat_minor": 5
}
